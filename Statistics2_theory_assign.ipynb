{
  "nbformat": 4,
  "nbformat_minor": 0,
  "metadata": {
    "colab": {
      "provenance": []
    },
    "kernelspec": {
      "name": "python3",
      "display_name": "Python 3"
    },
    "language_info": {
      "name": "python"
    }
  },
  "cells": [
    {
      "cell_type": "markdown",
      "source": [
        "# Q-1)  What is hypothesis testing in statistics ?\n",
        "\n",
        "Ans) Hypothesis testing in statistics is a structured method used to evaluate claims about a population parameter based on sample data.\n",
        "\n",
        "* Key Components:-\n",
        "\n",
        "-> Null Hypothesis (H₀): The default assumption of \"no effect\" or \"no difference\" (e.g., \"A drug has no effect compared to a placebo\").\n",
        "\n",
        "-> Alternative Hypothesis (H₁ or Ha): The claim being tested, suggesting a significant effect or difference (e.g., \"The drug is effective\").\n",
        "\n",
        "-> State Hypotheses: Define H₀ (no effect) and H₁ (effect exists).\n",
        "\n",
        "-> Choose Significance Level (α): Typically α = 0.05 (5% risk of Type I error).\n",
        "\n",
        "-> Select a Test: Choose a statistical test (e.g., t-test, z-test, chi-square) based on data type and assumptions.\n",
        "\n",
        "-> Calculate Test Statistic: Compute a value (e.g., t-score, z-score) measuring how far the sample result deviates from H₀.\n",
        "\n",
        "-> Determine Critical Region or P-value:\n",
        "\n",
        "-> Critical Value Approach: Compare the test statistic to a threshold from a distribution table (e.g., t-distribution).\n",
        "\n",
        "-> P-value Approach: Calculate the probability of observing the data (or more extreme results) if H₀ is true.\n",
        "\n",
        "-> If p-value ≤ α (or test statistic is in the critical region), reject H₀.\n",
        "\n",
        "-> If p-value > α, fail to reject H₀ (note: this does not confirm H₀ is true)."
      ],
      "metadata": {
        "id": "Xqa8YQkicxrU"
      }
    },
    {
      "cell_type": "markdown",
      "source": [
        "# Q-2)  What is the null hypothesis, and how does it differ from the alternative hypothesis?\n",
        "\n",
        "Ans) In hypothesis testing, we compare two competing hypotheses to make statistical inferences.\n",
        "\n",
        "* Null Hypothesis (H₀):\n",
        "\n",
        "-> The null hypothesis represents the default assumption or the status quo. It states that there is no significant effect, no difference, or no relationship between variables.\n",
        "\n",
        "-> In other words, it assumes that any observed variation in data is due to chance or random fluctuations rather than a real effect.\n",
        "\n",
        "->  The null hypothesis is tested with the assumption that it is true unless there is strong evidence against it.\n",
        "\n",
        "-> For example, if a company introduces a new medicine and wants to test its effectiveness in lowering blood pressure, the null hypothesis would state that the new drug has no significant impact on blood pressure compared to a placebo.\n",
        "\n",
        "* Alternative Hypothesis (H₁ or Ha):\n",
        "\n",
        "-> The alternative hypothesis contradicts the null hypothesis. It suggests that there is a significant effect, a difference, or a relationship between variables.\n",
        "\n",
        "->  The goal of hypothesis testing is to determine whether there is enough statistical evidence to reject the null hypothesis in favor of the alternative hypothesis.\n",
        "\n",
        "-> In the drug effectiveness example, the alternative hypothesis would state that the new medicine significantly lowers blood pressure compared to a placebo."
      ],
      "metadata": {
        "id": "AD-ZaK13eqPm"
      }
    },
    {
      "cell_type": "markdown",
      "source": [
        "# Q-3) What is the significance level in hypothesis testing, and why is it important?\n",
        "\n",
        "Ans) The significance level (α) in hypothesis testing is the probability of rejecting the null hypothesis (H₀) when it is actually true.\n",
        "\n",
        "->  It represents the threshold for determining whether the observed results are statistically significant.\n",
        "\n",
        "-> Controls Type I Error: The significance level defines the probability of making a Type I error, which occurs when we wrongly reject a true null hypothesis.\n",
        "\n",
        "->  For example, if α = 0.05, there is a 5% chance of making this error.\n",
        "\n",
        "-> Determines the Decision Rule: If the p-value (calculated from the test) is less than α, we reject the null hypothesis, meaning the result is statistically significant.\n",
        "\n",
        "-> Helps in Scientific and Business Decisions: A well-chosen significance level ensures that conclusions are based on strong evidence, reducing the likelihood of making incorrect decisions.\n",
        "\n",
        "* Common Values of Significance Level (α):\n",
        "\n",
        "-> 0.05 (5%) - Most commonly used in research and experiments.\n",
        "\n",
        "-> 0.01 (1%) - Used when stronger evidence is required, such as in medical studies.\n",
        "\n",
        "-> 0.10 (10%) - Sometimes used in exploratory research with less strict requirements."
      ],
      "metadata": {
        "id": "9ALJh6Y5fi59"
      }
    },
    {
      "cell_type": "markdown",
      "source": [
        "# Q-4) What does a P-value represent in hypothesis testing?\n",
        "\n",
        "Ans) The p-value (probability value) in hypothesis testing measures the probability of obtaining the observed results (or more extreme results) if the null hypothesis (H₀) is true.\n",
        "\n",
        "->  It helps determine whether the observed data provides enough evidence to reject H₀.\n",
        "\n",
        "* Interpretation of P-Value:\n",
        "\n",
        "-> A small p-value (≤ α) suggests that the observed data is unlikely under H₀, so we reject the null hypothesis in favor of the alternative hypothesis (H₁).\n",
        "\n",
        "-> A large p-value (> α) suggests that the observed data is consistent with H₀, so we fail to reject the null hypothesis (not enough evidence to support H₁).\n",
        "\n",
        "-> It does NOT prove H₀ or H₁ but indicates the strength of evidence against H₀.\n",
        "\n",
        "-> A small p-value does not confirm H₁, only that H₀ is unlikely.\n",
        "\n",
        "-> It depends on sample size—larger samples can lead to smaller p-values even for minor effects."
      ],
      "metadata": {
        "id": "GJJ63vvbg6uy"
      }
    },
    {
      "cell_type": "markdown",
      "source": [
        "# Q-5)  How do you interpret the P-value in hypothesis testing?\n",
        "\n",
        "Ans) The p-value represents the probability of obtaining the observed results (or more extreme ones) assuming that the null hypothesis (H₀) is true.\n",
        "\n",
        "->  It helps us decide whether to reject H₀ based on statistical evidence.\n",
        "\n",
        "-> Compare the p-value with the significance level (α):\n",
        "\n",
        "-> If p ≤ α (typically 0.05) → Strong evidence against H₀ → Reject H₀ (The result is statistically significant).\n",
        "\n",
        "-> If p > α → Weak evidence against H₀ → Fail to reject H₀ (The result is not statistically significant).\n",
        "\n",
        "-> A small p-value (close to 0) means the observed data is highly unlikely under H₀, suggesting that H₀ might not be true.\n",
        "\n",
        "-> A large p-value (close to 1) means the data is consistent with H₀, meaning there is no strong reason to reject it.\n",
        "\n",
        "-> A small p-value does not prove H₁; it only suggests strong evidence against H₀.\n",
        "\n",
        "-> A large p-value does not prove H₀ is true; it only means we lack enough evidence to reject it.\n",
        "\n",
        "-> The p-value depends on sample size—larger samples often result in smaller p-values, even for minor effects."
      ],
      "metadata": {
        "id": "hv5AFQ-rhdQO"
      }
    },
    {
      "cell_type": "markdown",
      "source": [
        "# Q-6) What are Type 1 and Type 2 errors in hypothesis testing?\n",
        "\n",
        "Ans) In hypothesis testing, two types of errors can occur when making a decision about the null hypothesis (H₀).\n",
        "\n",
        "-> These errors arise due to uncertainty in statistical inference.\n",
        "\n",
        "*  Type I Error (False Positive)\n",
        "\n",
        "-> A Type I error occurs when we reject a true null hypothesis (H₀). This means we conclude that there is an effect or difference when, in reality, there is none.\n",
        "\n",
        "-> Probability of Type I Error: Represented by α (significance level).\n",
        "\n",
        "*  Type II Error (False Negative)\n",
        "\n",
        "-> A Type II error occurs when we fail to reject a false null hypothesis (H₀). This means we conclude there is no effect or difference when, in reality, there is one.\n",
        "\n",
        "-> Probability of Type II Error: Represented by β (related to statistical power).\n",
        "\n",
        "-> Type I error is rejecting H₀ when it is true (false alarm).\n",
        "Type II error is failing to reject H₀ when it is false (missed detection).\n",
        "\n",
        "-> Reducing α lowers the chances of a Type I error but increases the risk of a Type II error, and vice versa."
      ],
      "metadata": {
        "id": "jvHit17fiDiL"
      }
    },
    {
      "cell_type": "markdown",
      "source": [
        "# Q-7) What is the difference between a one-tailed and a two-tailed test in hypothesis testing?\n",
        "\n",
        "Ans) In hypothesis testing, the choice between a one-tailed and a two-tailed test depends on the research question and how we define the alternative hypothesis (H₁).\n",
        "\n",
        "* One-Tailed Test (Directional Test)\n",
        "\n",
        "-> A one-tailed test is used when we are testing for an effect in only one specific direction (either an increase or a decrease).\n",
        "\n",
        "-> The alternative hypothesis (H₁) states that the parameter is either greater than or less than a specific value.\n",
        "\n",
        "-> The critical region (rejection area) is on one side of the distribution.\n",
        "\n",
        "*  Two-Tailed Test (Non-Directional Test)\n",
        "\n",
        "-> A two-tailed test is used when we are testing for an effect in both directions (increase or decrease).\n",
        "\n",
        "-> The alternative hypothesis (H₁) states that the parameter is not equal to a specific value.\n",
        "\n",
        "-> The critical regions (rejection areas) are on both sides of the distribution.\n",
        "\n",
        "-> A one-tailed test has more power to detect an effect in the expected direction, but a two-tailed test is more conservative and widely used when we are unsure about the direction of the effect."
      ],
      "metadata": {
        "id": "t6r9PhkaiwmJ"
      }
    },
    {
      "cell_type": "markdown",
      "source": [
        "# Q-8) @ What is the Z-test, and when is it used in hypothesis testing?\n",
        "\n",
        "Ans) A Z-test is a statistical test used to determine whether there is a significant difference between sample and population means or between two sample means when the population variance is known and the sample size is large (n ≥ 30).\n",
        "\n",
        "-> The data follows a normal distribution (or the sample size is large enough for the Central Limit Theorem to apply).\n",
        "\n",
        "-> The population variance (σ²) or standard deviation (σ) is known.\n",
        "The sample size is large (n ≥ 30).\n",
        "\n",
        "-> Used to compare the sample mean (𝑥̄) to a known population mean (μ).\n",
        "\n",
        "-> Used to compare the means of two independent samples.\n",
        "\n",
        "-> Used to compare proportions instead of means.\n",
        "Example: Determining if the percentage of smokers in one city differs from another.\n",
        "\n",
        "-> The Z-test is best for large samples (n ≥ 30) and when population variance is known.\n",
        "\n",
        "-> If the population variance is unknown, we use a T-test instead.\n",
        "The Z-test helps determine whether a sample significantly differs from a population or another sample."
      ],
      "metadata": {
        "id": "7VyQ8mcMjeVH"
      }
    },
    {
      "cell_type": "markdown",
      "source": [
        "# Q-9) How do you calculate the Z-score, and what does it represent in hypothesis testing?\n",
        "\n",
        "Ans) The Z-score (standard score) measures how far a data point or sample mean is from the population mean in terms of standard deviations.\n",
        "\n",
        "-> It helps determine whether the sample data is significantly different from the population under the null hypothesis (H₀).\n",
        "\n",
        "-> A Z-score of 0 means the sample mean is exactly the same as the population mean.\n",
        "\n",
        "-> A positive Z-score means the sample mean is above the population mean.\n",
        "\n",
        "-> A negative Z-score means the sample mean is below the population mean.\n",
        "\n",
        "-> The farther the Z-score is from 0, the less likely it is to occur under H₀\n",
        "\n",
        "-> Compare the Z-score with the critical value from the Z-table (based on the chosen significance level α).\n",
        "\n",
        "Decision Rule:\n",
        "\n",
        "-> If |Z| > critical value, reject H₀ (the result is statistically significant).\n",
        "\n",
        "-> If |Z| ≤ critical value, fail to reject H₀ (no significant difference)."
      ],
      "metadata": {
        "id": "j6GPEzorkNvF"
      }
    },
    {
      "cell_type": "markdown",
      "source": [
        "# Q-10) What is the T-distribution, and when should it be used instead of the normal distribution?\n",
        "\n",
        "Ans) The T-distribution (Student’s T-distribution) is a probability distribution used in hypothesis testing when\n",
        "\n",
        "-> The sample size is small (n < 30).\n",
        "\n",
        "-> The population standard deviation (σ) is unknown.\n",
        "\n",
        "-> The data is approximately normally distributed or the Central Limit Theorem applies (for moderate sample sizes).\n",
        "\n",
        "-> The T-distribution is similar to the normal distribution, but it has fatter tails (more variability).\n",
        "\n",
        "-> As sample size increases (n → infinity), the T-distribution approaches the normal distribution.\n",
        "\n",
        "-> The shape of the T-distribution is controlled by degrees of freedom (df = n - 1).\n",
        "\n",
        "-> use the T-distribution when the sample is small (n < 30) and σ is unknown.\n",
        "\n",
        "->  Use the Z-distribution when the sample is large (n ≥ 30) or σ is known.\n",
        "\n",
        "-> The T-distribution has fatter tails, meaning it accounts for more uncertainty in small samples."
      ],
      "metadata": {
        "id": "vQDwfYfvk1qS"
      }
    },
    {
      "cell_type": "markdown",
      "source": [
        "# Q-11) What is the difference between a Z-test and a T-test?\n",
        "\n",
        "Ans) Both the Z-test and T-test are used to determine whether there is a significant difference between sample data and population data (or between two sample data).\n",
        "\n",
        "->  However, they are applied in different situations based on sample size and knowledge of population parameters.\n",
        "\n",
        "-> Z-Test: Used when the population standard deviation  is known.\n",
        "\n",
        "-> T-Test: Used when the population standard deviation is unknown and is estimated from the sample data using the sample standard deviation.\n",
        "\n",
        "-> Z-Test: Typically used when the sample size is large (n ≥ 30). The Central Limit Theorem (CLT) applies, meaning the sampling distribution is approximately normal, even if the population distribution is not normal.\n",
        "\n",
        "-> T-Test: Used when the sample size is small (n < 30). The T-test is more appropriate for small sample sizes because the sample standard deviation  is a less reliable estimate of the population standard deviation.\n",
        "\n",
        "-> Z-Test: Based on the normal distribution (also known as the Gaussian distribution), which is symmetric and bell-shaped.\n",
        "\n",
        "-> T-Test: Based on the T-distribution, which is also bell-shaped but has fatter tails (more variability) to account for the increased uncertainty with small sample sizes.\n",
        "\n",
        "-> The shape of the T-distribution becomes more similar to the normal distribution as the sample size increases."
      ],
      "metadata": {
        "id": "664ef-l-le7A"
      }
    },
    {
      "cell_type": "markdown",
      "source": [
        "# Q-12) What is the T-test, and how is it used in hypothesis testing?\n",
        "\n",
        "Ans) T-test :\n",
        "\n",
        "-> The T-test is a statistical test used to determine if there is a significant difference between the means of two groups or if a sample mean is significantly different from a known population mean.\n",
        "\n",
        "->  It is commonly used when the population standard deviation (σ) is unknown and the sample size is small (n < 30).\n",
        "\n",
        "->  The test relies on the T-distribution, which accounts for the added uncertainty in small samples.\n",
        "\n",
        "*  One-Sample T-Test\n",
        "\n",
        "-> Used to compare the sample mean against a known population mean to see if there is a significant difference.\n",
        "\n",
        "H₀: The sample mean is equal to the population mean.\n",
        "H₁: The sample mean is different from the population mean.\n",
        "\n",
        "*  Two-Sample T-Test\n",
        "\n",
        "-> Used to compare the means of two independent groups to see if there is a significant difference between them.\n",
        "\n",
        "H₀: The two group means are equal.\n",
        "H₁: The two group means are not equal.\n",
        "\n",
        "\n",
        "->  The T-test is used when the sample size is small or the population standard deviation is unknown.\n",
        "\n",
        "-> There are different types of T-tests based on the comparison being made: one-sample, two-sample, and paired T-tests.\n",
        "\n",
        "->  The T-distribution accounts for the increased variability when sample sizes are small.\n",
        "\n",
        "->  T-tests help determine whether a sample mean is significantly different from a population mean or from another sample mean."
      ],
      "metadata": {
        "id": "e78OHMwCmCYV"
      }
    },
    {
      "cell_type": "markdown",
      "source": [
        "# Q-13) What is the relationship between Z-test and T-test in hypothesis testing?\n",
        "\n",
        "Ans) Relationship Between z-test and T-test ioin hypothesis testing,\n",
        "\n",
        "-> The Z-test and T-test are both statistical tools used in hypothesis testing to determine whether there is a significant difference between a sample and a population (or between two samples).\n",
        "\n",
        "-> Though they serve similar purposes, they are used under different conditions and have distinct characteristics.\n",
        "\n",
        "-> Z-test and T-test both serve the same purpose in hypothesis testing, i.e., to compare sample data to a population or to compare two sample data.\n",
        "\n",
        "-> The key difference lies in the sample size and whether the population standard deviation (σ) is known or unknown.\n",
        "\n",
        "-> For large samples (n ≥ 30), the T-test can be used like the Z-test, and the results will be nearly the same because the T-distribution approximates the normal distribution.\n",
        "\n",
        "-> For small samples (n < 30), you should prefer the T-test, especially when σ is unknown."
      ],
      "metadata": {
        "id": "3jq0PO7em_zl"
      }
    },
    {
      "cell_type": "markdown",
      "source": [
        "# Q-14) What is a confidence interval, and how is it used to interpret statistical results?\n",
        "\n",
        "Ans) A confidence interval (CI) is a range of values, derived from sample data, that is used to estimate a population parameter (such as a population mean or population proportion).\n",
        "\n",
        "->  The confidence interval gives a range of plausible values for the population parameter, and it is associated with a confidence level, typically expressed as a percentage (e.g., 95% or 99%).\n",
        "\n",
        "-> A 95% confidence interval means that if you were to take 100 random samples from the population, approximately 95 of those samples' confidence intervals would contain the true population parameter.\n",
        "\n",
        "-> A wider confidence interval indicates more uncertainty in the estimate.\n",
        "\n",
        "->  This can happen if the sample size is small or the sample data is highly variable.\n",
        "\n",
        "-> A narrower confidence interval indicates greater precision in the estimate, usually due to a larger sample size or less variability in the data."
      ],
      "metadata": {
        "id": "OL2YcmI4nflh"
      }
    },
    {
      "cell_type": "markdown",
      "source": [
        "# Q-15) What is the margin of error, and how does it affect the confidence interval?\n",
        "\n",
        "Ans) The margin of error (MoE) is a measure of the uncertainty or variability in a statistical estimate, and it determines how much the sample estimate (such as a sample mean or proportion) may differ from the true population value.\n",
        "\n",
        "-> The margin of error is added and subtracted from the sample estimate to create the confidence interval (CI), providing a range of values that is likely to contain the true population parameter.\n",
        "\n",
        "-> The margin of error affects the width of the confidence interval. A larger margin of error results in a wider confidence interval, indicating more uncertainty in the estimate.\n",
        "\n",
        "-> A smaller margin of error leads to a narrower confidence interval, suggesting greater precision in the estimate.\n",
        "\n",
        "->  The margin of error decreases as the sample size increases because larger samples provide more precise estimates of the population parameter. This results in a narrower confidence interval.\n",
        "\n",
        "-> Larger samples reduce variability and make the estimate more reliable, thus reducing the margin of error.\n",
        "\n"
      ],
      "metadata": {
        "id": "wqagbvYwoRHY"
      }
    },
    {
      "cell_type": "markdown",
      "source": [
        "# Q-16) How is Bayes' Theorem used in statistics, and what is its significance?\n",
        "\n",
        "Ans) Bayes' Theorem is a fundamental concept in probability theory and statistics that describes how to update the probability of a hypothesis (or event) based on new evidence or data.\n",
        "\n",
        "-> It provides a way to calculate the posterior probability, which is the probability of a hypothesis being true after observing new evidence, given its prior probability.\n",
        "\n",
        "-> Bayes' Theorem is widely used in fields like medicine, finance, and machine learning to make better-informed decisions based on incomplete or uncertain data.\n",
        "\n",
        "-> For example, it is used in spam email filtering, risk assessment, and fraud detection.\n",
        "\n",
        "-> Bayes' Theorem allows for continuous updates as new data becomes available. This makes it a powerful tool for real-time decision-making, such as in predictive modeling and autonomous systems.\n",
        "\n",
        "-> Bayes' Theorem is widely used in machine learning, medical diagnosis, spam filtering, and finance to make data-driven decisions.\n",
        "\n",
        "-> It is a powerful method for dealing with uncertainty and continuously refining predictions as more data becomes available."
      ],
      "metadata": {
        "id": "ceOlH3Rooz4t"
      }
    },
    {
      "cell_type": "markdown",
      "source": [
        "# Q-17) What is the Chi-square distribution, and when is it used?\n",
        "\n",
        "Ans) Chi-square distribution:\n",
        "\n",
        "->  The Chi-square distribution (χ²) is a continuous probability distribution that is widely used in statistics, especially in hypothesis testing and in constructing confidence intervals.\n",
        "\n",
        "->  It is a special case of the Gamma distribution and is primarily concerned with the distribution of the sum of the squares of independent standard normal variables.\n",
        "\n",
        "-> The Chi-square distribution is positively skewed, meaning it has a long tail on the right side.\n",
        "\n",
        "->  As the degrees of freedom (df) increase, the distribution becomes more symmetric, and for large degrees of freedom, it approaches a normal distribution.\n",
        "\n",
        "-> Chi-Square Goodness of Fit Test: This test is used to determine how well an observed distribution of data fits a theoretical distribution.\n",
        "\n",
        "-> It compares the observed frequencies with the expected frequencies under the null hypothesis.\n",
        "\n",
        "-> Use case: When you want to test whether a categorical variable follows a specific distribution (e.g., testing if dice are fair)."
      ],
      "metadata": {
        "id": "TGCvocC9pb25"
      }
    },
    {
      "cell_type": "markdown",
      "source": [
        "# Q-18) What is the Chi-square goodness of fit test, and how is it applied?\n",
        "\n",
        "Ans) The Chi-Square Goodness of Fit Test is a statistical test used to determine if a sample data matches an expected distribution.\n",
        "\n",
        "-> It compares the observed frequencies of data in different categories with the expected frequencies under a specific hypothesis about the population.\n",
        "\n",
        "-> Determine how well observed data fits a specific distribution (e.g., a uniform distribution, normal distribution, etc.).\n",
        "\n",
        "-> Test for discrepancies between the observed and expected frequencies to assess if the differences are due to chance or if there is a significant difference.\n",
        "\n",
        "-> The Chi-square Goodness of Fit test compares observed data with expected data under a specific hypothesis.\n",
        "\n",
        "-> The test is useful for checking if data fits a theoretical distribution or if differences are due to random chance.\n",
        "\n",
        "-> The test statistic is calculated by summing the squared differences between observed and expected frequencies, divided by the expected frequencies.\n",
        "\n",
        "-> The test helps make decisions about whether observed data aligns with expected patterns or distributions."
      ],
      "metadata": {
        "id": "oywytVUaqBfm"
      }
    },
    {
      "cell_type": "markdown",
      "source": [
        "# Q-19) What is the F-distribution, and when is it used in hypothesis testing?\n",
        "\n",
        "Ans) F-distribution:\n",
        "\n",
        "-> The F-distribution is a continuous probability distribution that is primarily used in hypothesis testing and statistical inference.\n",
        "\n",
        "-> It arises when comparing the variances of two or more groups. It is the ratio of two independent Chi-square distributions, each divided by their respective degrees of freedom.\n",
        "\n",
        "-> One of the most common uses of the F-distribution is in ANOVA, where it is used to test whether there are significant differences between the means of two or more groups.\n",
        "\n",
        "* One-way ANOVA: Tests if there is a significant difference between the means of three or more independent groups.\n",
        "\n",
        "*  Two-way ANOVA: Extends one-way ANOVA to consider two independent variables.\n",
        "\n",
        "-> In ANOVA, the F-statistic is the ratio of variance between the groups to the variance within the groups. If the F-statistic is large, it indicates that the means of the groups are significantly different.\n",
        "\n",
        "-> It is used in ANOVA for comparing the means of different groups and in F-tests to compare variances between two populations.\n",
        "\n",
        "-> The F-statistic is the ratio of variances and follows an F-distribution with two sets of degrees of freedom.\n",
        "\n",
        "-> The F-test helps assess whether observed differences are statistically significant, given the underlying distribution."
      ],
      "metadata": {
        "id": "s4bu5sfVqp2l"
      }
    },
    {
      "cell_type": "markdown",
      "source": [
        "# Q-20) What is an ANOVA test, and what are its assumptions?\n",
        "\n",
        "Ans) ANOVA is a statistical technique used to compare the means of three or more groups to determine if there are any statistically significant differences between them.\n",
        "\n",
        "->  It tests the hypothesis that all group means are equal.\n",
        "\n",
        "-> Comparing multiple groups: ANOVA helps in comparing the means of three or more independent groups to see if at least one of them significantly differs from the others.\n",
        "\n",
        "-> Testing group differences: It is often used when you have more than two groups and want to know if they have similar or different average outcomes.\n",
        "\n",
        "**Types of ANOVA Tests**\n",
        "\n",
        "* One-Way ANOVA:\n",
        "\n",
        "-> Used when there is one independent variable with three or more levels (groups).\n",
        "\n",
        "* Two-Way ANOVA:\n",
        "\n",
        "-> Used when there are two independent variables and one dependent variable.\n",
        "\n",
        "-> It can also assess if there is an interaction between the two independent variables.\n"
      ],
      "metadata": {
        "id": "4qaBR7B2rNNK"
      }
    },
    {
      "cell_type": "markdown",
      "source": [
        "# Q-21) What are the different types of ANOVA tests?\n",
        "\n",
        "Ans) There are several types of ANOVA tests, each designed to handle different experimental setups or types of data.\n",
        "\n",
        "*  One-Way ANOVA\n",
        "\n",
        "-> Used to compare the means of three or more independent groups based on a single independent variable (factor).\n",
        "\n",
        "Example: Testing whether different diets (Diet A, B, and C) result in different average weight losses.\n",
        "\n",
        "*  Two-Way ANOVA\n",
        "\n",
        "->  Used when there are two independent variables and you want to assess their individual effects as well as any interaction effects between them on the dependent variable.\n",
        "\n",
        "Example: Testing the effect of teaching method and gender on student performance (e.g., comparing the mean test scores across different teaching methods and genders).\n",
        "\n",
        "-> Independence of Observations: Assumed in most ANOVA types (except Repeated Measures ANOVA).\n",
        "\n",
        "-> Normality: The data in each group should be normally distributed (especially for small sample sizes).\n",
        "\n",
        "-> Homogeneity of Variance: The variance within groups should be roughly equal.\n",
        "\n",
        "-> Repeated Measures ANOVA: Assumes correlation of observations within the same group over time."
      ],
      "metadata": {
        "id": "GqeJGXgSsd4y"
      }
    },
    {
      "cell_type": "markdown",
      "source": [
        "# Q-22)  What is the F-test, and how does it relate to hypothesis testing?\n",
        "\n",
        "Ans) The F-test is a statistical test used to compare two or more sample variances to assess whether there is a significant difference between them.\n",
        "\n",
        "-> It is commonly used in ANOVA (Analysis of Variance) and in tests involving multiple sample variances.\n",
        "\n",
        "-> The F-test is based on the ratio of two variances and follows an F-distribution.\n",
        "\n",
        "-> The F-test evaluates whether the variance between groups is significantly greater than the variance within groups, helping determine if the means of different groups are significantly different.\n",
        "\n",
        "-> The F-test helps assess whether the variances or the means (in ANOVA) of two or more groups are significantly different.\n",
        "\n",
        "-> The result of the F-test helps to decide whether to reject the null hypothesis.\n",
        "\n",
        "-> If the F-statistic is large, it indicates that the variability between the groups is large relative to the variability within the groups, suggesting that at least one group mean is different from the others.\n",
        "\n",
        "-> In ANOVA, the F-test is used to test the null hypothesis that all group means are equal.\n",
        "\n",
        "-> If the null hypothesis is rejected, it means there is evidence that at least one group mean is different."
      ],
      "metadata": {
        "id": "fJdVjwkutkUN"
      }
    }
  ]
}