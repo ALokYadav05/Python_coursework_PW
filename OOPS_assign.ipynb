{
  "nbformat": 4,
  "nbformat_minor": 0,
  "metadata": {
    "colab": {
      "provenance": []
    },
    "kernelspec": {
      "name": "python3",
      "display_name": "Python 3"
    },
    "language_info": {
      "name": "python"
    }
  },
  "cells": [
    {
      "cell_type": "markdown",
      "source": [
        "# Q-1 ) What are the five key concepts of Object-Oriented Programming (OOP)?\n",
        "\n",
        "Ans) The five key concept of OOPS are:-\n",
        "\n",
        "* class & object\n",
        "* Encapsulation\n",
        "* Inheritance\n",
        "* Polymorphism\n",
        "* Abstraction\n",
        "\n",
        "**class and object** :-\n",
        "\n",
        "-> A class is a blueprint for creating objects. It defines the\n",
        " properties (attributes) and behaviors (methods) that the objects created from the class will have.\n",
        "\n",
        "->  An object is an instance of a class. It represents a real-world entity with attributes and behaviors defined by its class."
      ],
      "metadata": {
        "id": "vr-xPnovkOyy"
      }
    },
    {
      "cell_type": "code",
      "source": [
        "class Car:\n",
        "    def __init__(self, brand, model):\n",
        "        self.brand = brand\n",
        "        self.model = model\n",
        "\n",
        "    def display_info(self):\n",
        "        print(f\"This car is a {self.brand} {self.model}.\")\n",
        "\n",
        "my_car = Car(\"Toyota\", \"Corolla\")\n",
        "my_car.display_info()\n"
      ],
      "metadata": {
        "colab": {
          "base_uri": "https://localhost:8080/"
        },
        "id": "NxN7XIWSlzj3",
        "outputId": "f3379cb7-b0b5-41e8-c044-542964b6814d"
      },
      "execution_count": 1,
      "outputs": [
        {
          "output_type": "stream",
          "name": "stdout",
          "text": [
            "This car is a Toyota Corolla.\n"
          ]
        }
      ]
    },
    {
      "cell_type": "markdown",
      "source": [
        "**Encapsulation**:-\n",
        "\n",
        "-> Encapsulation refers to bundling the data (attributes) and methods\n",
        "  that operate on the data into a single unit (class) while restricting direct access to some components using access modifiers (e.g., private)."
      ],
      "metadata": {
        "id": "lWYISfo-l7Jf"
      }
    },
    {
      "cell_type": "code",
      "source": [
        "class BankAccount:\n",
        "    def __init__(self, balance):\n",
        "        self.__balance = balance  # Private attribute\n",
        "\n",
        "    def deposit(self, amount):\n",
        "        self.__balance += amount\n",
        "\n",
        "    def withdraw(self, amount):\n",
        "        if amount <= self.__balance:\n",
        "            self.__balance -= amount\n",
        "        else:\n",
        "            print(\"Insufficient funds!\")\n",
        "\n",
        "    def get_balance(self):\n",
        "        return self.__balance\n",
        "\n",
        "account = BankAccount(1000)\n",
        "account.deposit(500)\n",
        "print(account.get_balance())"
      ],
      "metadata": {
        "colab": {
          "base_uri": "https://localhost:8080/"
        },
        "id": "Qs3Y2gvVmY4d",
        "outputId": "0a681698-893c-421c-ac18-60c7b79ad29e"
      },
      "execution_count": 2,
      "outputs": [
        {
          "output_type": "stream",
          "name": "stdout",
          "text": [
            "1500\n"
          ]
        }
      ]
    },
    {
      "cell_type": "markdown",
      "source": [
        "**Inhertiance** :-\n",
        "\n",
        "-> Inheritance allows a class (child class) to inherit properties and\n",
        "  methods from another class (parent class), enabling code reuse."
      ],
      "metadata": {
        "id": "1WYl9aexmmvm"
      }
    },
    {
      "cell_type": "code",
      "source": [
        "class Animal:\n",
        "    def sound(self):\n",
        "        print(\"This animal makes a sound.\")\n",
        "\n",
        "class Dog(Animal):  # Dog inherits from Animal\n",
        "    def sound(self):\n",
        "        print(\"The dog barks.\")\n",
        "\n",
        "\n",
        "dog = Dog()\n",
        "dog.sound()\n"
      ],
      "metadata": {
        "colab": {
          "base_uri": "https://localhost:8080/"
        },
        "id": "UNzJIR4omujm",
        "outputId": "a779318c-623e-4134-e437-467205fb7801"
      },
      "execution_count": 3,
      "outputs": [
        {
          "output_type": "stream",
          "name": "stdout",
          "text": [
            "The dog barks.\n"
          ]
        }
      ]
    },
    {
      "cell_type": "markdown",
      "source": [
        "**Polymorphism** :-\n",
        "\n",
        "-> Polymorphism allows methods in different classes to have the same name but behave differently based on the object calling the method."
      ],
      "metadata": {
        "id": "ZKUM4cMtm0nv"
      }
    },
    {
      "cell_type": "code",
      "source": [
        "class Bird:\n",
        "    def sound(self):\n",
        "        print(\"Chirp chirp!\")\n",
        "\n",
        "class Cat:\n",
        "    def sound(self):\n",
        "        print(\"Meow!\")\n",
        "\n",
        "# Using polymorphism\n",
        "for animal in [Bird(), Cat()]:\n",
        "    animal.sound()\n",
        "\n"
      ],
      "metadata": {
        "colab": {
          "base_uri": "https://localhost:8080/"
        },
        "id": "10etlIEUnEQ4",
        "outputId": "5179a7e5-5dbc-4fba-d339-1a9b33a42c94"
      },
      "execution_count": 4,
      "outputs": [
        {
          "output_type": "stream",
          "name": "stdout",
          "text": [
            "Chirp chirp!\n",
            "Meow!\n"
          ]
        }
      ]
    },
    {
      "cell_type": "markdown",
      "source": [
        "**Abstraction** :-  \n",
        "\n",
        "-> Abstraction is the process of hiding the implementation details of an object and exposing only the essential features or behaviors. It allows the user to focus on what an object does rather than how it does it."
      ],
      "metadata": {
        "id": "ZyzLl5BZnR5y"
      }
    },
    {
      "cell_type": "code",
      "source": [
        "from abc import ABC, abstractmethod\n",
        "\n",
        "class Shape(ABC):  # Abstract base class\n",
        "    @abstractmethod\n",
        "    def area(self):\n",
        "        pass\n",
        "\n",
        "    @abstractmethod\n",
        "    def perimeter(self):\n",
        "        pass\n",
        "\n",
        "class Rectangle(Shape):\n",
        "    def __init__(self, length, width):\n",
        "        self.length = length\n",
        "        self.width = width\n",
        "\n",
        "    def area(self):\n",
        "        return self.length * self.width\n",
        "\n",
        "    def perimeter(self):\n",
        "        return 2 * (self.length + self.width)\n",
        "\n",
        "class Circle(Shape):\n",
        "    def __init__(self, radius):\n",
        "        self.radius = radius\n",
        "\n",
        "    def area(self):\n",
        "        return 3.14 * self.radius ** 2\n",
        "\n",
        "    def perimeter(self):\n",
        "        return 2 * 3.14 * self.radius\n",
        "\n",
        "# Using abstraction\n",
        "shapes = [Rectangle(4, 5), Circle(3)]\n",
        "\n",
        "for shape in shapes:\n",
        "    print(f\"Area: {shape.area()}, Perimeter: {shape.perimeter()}\")\n"
      ],
      "metadata": {
        "colab": {
          "base_uri": "https://localhost:8080/"
        },
        "id": "v2acfdgKnktm",
        "outputId": "97eddd0e-829e-47f7-c1f6-901af6890c84"
      },
      "execution_count": 5,
      "outputs": [
        {
          "output_type": "stream",
          "name": "stdout",
          "text": [
            "Area: 20, Perimeter: 18\n",
            "Area: 28.26, Perimeter: 18.84\n"
          ]
        }
      ]
    },
    {
      "cell_type": "markdown",
      "source": [
        "\n",
        "# Q-2) . Write a Python class for a `Car` with attributes for `make`, `model`, and `year`. Include a method to display the car's information.\n",
        "\n",
        "Ans)"
      ],
      "metadata": {
        "id": "kyUAXZVzn0tX"
      }
    },
    {
      "cell_type": "code",
      "source": [
        "class Car:\n",
        "    def __init__(self, make, model, year):\n",
        "        self.make = make\n",
        "        self.model = model\n",
        "        self.year = year\n",
        "\n",
        "    def display_info(self):\n",
        "        print(f\"Car Information: {self.year} {self.make} {self.model}\")\n",
        "\n",
        "\n",
        "my_car = Car(\"Toyota\", \"Corolla\", 2022)\n",
        "my_car.display_info()\n"
      ],
      "metadata": {
        "colab": {
          "base_uri": "https://localhost:8080/"
        },
        "id": "rDHgnjwLoSCU",
        "outputId": "88d926c0-6dfc-4018-98b7-fbf8cb73dd8b"
      },
      "execution_count": 6,
      "outputs": [
        {
          "output_type": "stream",
          "name": "stdout",
          "text": [
            "Car Information: 2022 Toyota Corolla\n"
          ]
        }
      ]
    },
    {
      "cell_type": "markdown",
      "source": [
        "\n",
        "# Q-3) Explain the difference between instance methods and class methods. Provide an example of each.\n",
        "\n",
        "Ans) Difference Between Instance Methods and Class Methods:-\n",
        "\n",
        "**Instance Methods:**\n",
        "\n",
        "* Belong to an instance of a class.\n",
        "\n",
        "* Can access and modify the instance’s attributes.\n",
        "\n",
        "* Require an instance of the class to be called.\n",
        "\n",
        "* First parameter is always self, representing the instance.\n",
        "\n",
        "**Class Methods:**\n",
        "\n",
        "* Belong to the class, not an instance.\n",
        "\n",
        "* Cannot access or modify instance attributes.\n",
        "\n",
        "* Can access and modify class-level attributes.\n",
        "\n",
        "* First parameter is always cls, representing the class itself.\n",
        "\n",
        "* Use the @classmethod decorator."
      ],
      "metadata": {
        "id": "DiD61CYFoWHD"
      }
    },
    {
      "cell_type": "code",
      "source": [
        "class Example:\n",
        "    class_attribute = \"I belong to the class\"\n",
        "\n",
        "    def __init__(self, instance_attribute):\n",
        "        self.instance_attribute = instance_attribute\n",
        "\n",
        "    # Instance method\n",
        "    def instance_method(self):\n",
        "        print(f\"Instance Attribute: {self.instance_attribute}\")\n",
        "        print(f\"Class Attribute: {self.class_attribute}\")\n",
        "\n",
        "    # Class method\n",
        "    @classmethod\n",
        "    def class_method(cls):\n",
        "        print(f\"Class Attribute: {cls.class_attribute}\")\n"
      ],
      "metadata": {
        "id": "Ls2nZ3MmpDmB"
      },
      "execution_count": 7,
      "outputs": []
    },
    {
      "cell_type": "code",
      "source": [
        "# Creating an instance\n",
        "example = Example(\"I belong to an instance\")\n",
        "\n",
        "# Calling instance method\n",
        "example.instance_method()\n",
        "\n",
        "\n",
        "# Calling class method\n",
        "Example.class_method()\n",
        "\n"
      ],
      "metadata": {
        "colab": {
          "base_uri": "https://localhost:8080/"
        },
        "id": "QIae_ZtZpHbZ",
        "outputId": "005c5fd1-973b-4f57-9f21-1c9ce392ca16"
      },
      "execution_count": 8,
      "outputs": [
        {
          "output_type": "stream",
          "name": "stdout",
          "text": [
            "Instance Attribute: I belong to an instance\n",
            "Class Attribute: I belong to the class\n",
            "Class Attribute: I belong to the class\n"
          ]
        }
      ]
    },
    {
      "cell_type": "markdown",
      "source": [
        "\n",
        "# Q-4)  How does Python implement method overloading? Give an example.\n",
        "\n",
        "Ans)\n",
        "\n",
        "-> Python does not natively support method overloading like other\n",
        "   languages such as Java or C++.\n",
        "\n",
        "-> Python achieves similar functionality using default arguments,\n",
        "   variable-length arguments, or by manually checking the argument types/number within a single method."
      ],
      "metadata": {
        "id": "UhV9iSM8pa5s"
      }
    },
    {
      "cell_type": "code",
      "source": [
        "class Calculator:\n",
        "    def add(self, a, b=0, c=0):\n",
        "        return a + b + c\n",
        "\n",
        "#  overloaded-like method\n",
        "calc = Calculator()\n",
        "print(calc.add(5))\n",
        "print(calc.add(5, 10))\n",
        "print(calc.add(5, 10, 15))\n"
      ],
      "metadata": {
        "colab": {
          "base_uri": "https://localhost:8080/"
        },
        "id": "mC8KdoZSp28m",
        "outputId": "fcd960ba-52f7-4d82-dc35-b62642a13471"
      },
      "execution_count": 9,
      "outputs": [
        {
          "output_type": "stream",
          "name": "stdout",
          "text": [
            "5\n",
            "15\n",
            "30\n"
          ]
        }
      ]
    },
    {
      "cell_type": "code",
      "source": [
        "class Calculator:\n",
        "    def add(self, *args):\n",
        "        return sum(args)\n",
        "\n",
        "# overloaded-like method\n",
        "calc = Calculator()\n",
        "print(calc.add(5))\n",
        "print(calc.add(5, 10))\n",
        "print(calc.add(5, 10, 15))\n"
      ],
      "metadata": {
        "colab": {
          "base_uri": "https://localhost:8080/"
        },
        "id": "Ynqcrb0dqBYQ",
        "outputId": "c7a5e0fa-cc9d-4e20-eb1f-0f7c2d59bec2"
      },
      "execution_count": 10,
      "outputs": [
        {
          "output_type": "stream",
          "name": "stdout",
          "text": [
            "5\n",
            "15\n",
            "30\n"
          ]
        }
      ]
    },
    {
      "cell_type": "code",
      "source": [
        "class Calculator:\n",
        "    def calculate(self, a, b=None):\n",
        "        if b is None:\n",
        "            return a   # return same no. if one arg\n",
        "        return a + b  # Sum if two arg\n",
        "\n",
        "calc = Calculator()\n",
        "print(calc.calculate(5))\n",
        "print(calc.calculate(5, 10))\n"
      ],
      "metadata": {
        "colab": {
          "base_uri": "https://localhost:8080/"
        },
        "id": "qYvH4PDhqUy7",
        "outputId": "07f84622-715a-471f-e9cf-45fa163b4f51"
      },
      "execution_count": 11,
      "outputs": [
        {
          "output_type": "stream",
          "name": "stdout",
          "text": [
            "5\n",
            "15\n"
          ]
        }
      ]
    },
    {
      "cell_type": "markdown",
      "source": [
        "\n",
        "# Q-5)What are the three types of access modifiers in Python? How are they denoted?\n",
        "\n",
        "Ans)\n",
        "  There are three types of access modifiers to control the accessibility of class members (attributes and methods). These modifiers are:\n",
        "\n",
        "  * Public\n",
        "  * Protected\n",
        "  * Private\n",
        "\n",
        "  **Public :**\n",
        "\n",
        "  -> Accessible from anywhere (inside or outside the class).\n",
        "\n",
        "  -> Default access level for attributes and methods.\n",
        "  \n",
        "  ->  Denotation: No special prefix."
      ],
      "metadata": {
        "id": "ngzGcEl7qi4V"
      }
    },
    {
      "cell_type": "code",
      "source": [
        "class Example:\n",
        "    def __init__(self):\n",
        "        self.public_attribute = \"I am Public\"\n",
        "\n",
        "    def public_method(self):\n",
        "        return \"Public Method\"\n",
        "\n",
        "obj = Example()\n",
        "print(obj.public_attribute)\n",
        "print(obj.public_method())\n"
      ],
      "metadata": {
        "colab": {
          "base_uri": "https://localhost:8080/"
        },
        "id": "dT2RG--jq--A",
        "outputId": "e930696b-c1d5-4b16-a413-5db49b5f1bff"
      },
      "execution_count": 12,
      "outputs": [
        {
          "output_type": "stream",
          "name": "stdout",
          "text": [
            "I am Public\n",
            "Public Method\n"
          ]
        }
      ]
    },
    {
      "cell_type": "markdown",
      "source": [
        "\n",
        "**Protected:**\n",
        "\n",
        "-> Accessible within the class and its subclasses.\n",
        "   Not strictly enforced but indicated as \"protected\" by convention.\n",
        "  Denotation: Prefix with a single underscore _."
      ],
      "metadata": {
        "id": "guVGmVxKrd-l"
      }
    },
    {
      "cell_type": "code",
      "source": [
        "class Example:\n",
        "    def __init__(self):\n",
        "        self._protected_attribute = \"I am Protected\"\n",
        "\n",
        "    def _protected_method(self):\n",
        "        return \"Protected Method\"\n",
        "\n",
        "class Subclass(Example):\n",
        "    def access_protected(self):\n",
        "        return self._protected_attribute\n",
        "\n",
        "obj = Subclass()\n",
        "print(obj.access_protected())\n"
      ],
      "metadata": {
        "colab": {
          "base_uri": "https://localhost:8080/"
        },
        "id": "-lgSkNd-rkjG",
        "outputId": "da582d94-d89e-418f-cdec-75935df3ccff"
      },
      "execution_count": 13,
      "outputs": [
        {
          "output_type": "stream",
          "name": "stdout",
          "text": [
            "I am Protected\n"
          ]
        }
      ]
    },
    {
      "cell_type": "markdown",
      "source": [
        "**Private:**\n",
        "\n",
        "-> Accessible only within the class.\n",
        "\n",
        "-> Not directly accessible from outside the class or subclasses.\n",
        "\n",
        "-> Denotation: Prefix with a double underscore __.\n",
        "\n",
        "-> Python performs name mangling to restrict access, making it harder to accidentally modify."
      ],
      "metadata": {
        "id": "qcw9k83_rxEv"
      }
    },
    {
      "cell_type": "code",
      "source": [
        "class Example:\n",
        "    def __init__(self):\n",
        "        self.__private_attribute = \"I am Private\"\n",
        "\n",
        "    def __private_method(self):\n",
        "        return \"Private Method\"\n",
        "\n",
        "    def access_private(self):\n",
        "        return self.__private_attribute\n",
        "\n",
        "obj = Example()\n",
        "print(obj.access_private())\n",
        "\n"
      ],
      "metadata": {
        "colab": {
          "base_uri": "https://localhost:8080/"
        },
        "id": "wDXaD6iNr51g",
        "outputId": "3a5e4fe3-1af4-41be-9ddc-87d0093e2dfc"
      },
      "execution_count": 14,
      "outputs": [
        {
          "output_type": "stream",
          "name": "stdout",
          "text": [
            "I am Private\n"
          ]
        }
      ]
    },
    {
      "cell_type": "markdown",
      "source": [
        "# Q-6) Describe the five types of inheritance in Python. Provide a simple example of multiple inheritance\n",
        "\n",
        "Ans) There are five types of inheritance in python :-  \n",
        "\n",
        "* Single-Inheritance\n",
        "\n",
        "* Multiple-Inheritance\n",
        "\n",
        "* Multilevel-Inheritance\n",
        "\n",
        "* Heirarchical-Inheritance\n",
        "\n",
        "* Hybrid -Inheritance\n",
        "\n",
        "\n",
        "\n",
        "**Single-Inheritance :**\n",
        "\n",
        "-> A child class inherits from a single parent class.\n"
      ],
      "metadata": {
        "id": "cWhj5LGasDbh"
      }
    },
    {
      "cell_type": "code",
      "source": [
        "class Parent:\n",
        "    def greet(self):\n",
        "        print(\"Hello from Parent\")\n",
        "\n",
        "class Child(Parent):\n",
        "    pass\n",
        "\n",
        "obj = Child()\n",
        "obj.greet()\n"
      ],
      "metadata": {
        "colab": {
          "base_uri": "https://localhost:8080/"
        },
        "id": "8RITPSlXuFo8",
        "outputId": "8d69b1be-49c5-4108-a1e0-783d9c6292f0"
      },
      "execution_count": 15,
      "outputs": [
        {
          "output_type": "stream",
          "name": "stdout",
          "text": [
            "Hello from Parent\n"
          ]
        }
      ]
    },
    {
      "cell_type": "markdown",
      "source": [
        "**Multiple-Inheritance :**\n",
        "\n",
        "-> A child class inherits from multiple parent classes."
      ],
      "metadata": {
        "id": "8vyKiq1quJk8"
      }
    },
    {
      "cell_type": "code",
      "source": [
        "class Parent1:\n",
        "    def greet_parent1(self):\n",
        "        print(\"Hello from Parent1\")\n",
        "\n",
        "class Parent2:\n",
        "    def greet_parent2(self):\n",
        "        print(\"Hello from Parent2\")\n",
        "\n",
        "class Child(Parent1, Parent2):\n",
        "    def greet_child(self):\n",
        "        print(\"Hello from Child\")\n",
        "\n",
        "\n",
        "obj = Child()\n",
        "obj.greet_parent1()\n",
        "obj.greet_parent2()\n",
        "obj.greet_child()"
      ],
      "metadata": {
        "colab": {
          "base_uri": "https://localhost:8080/"
        },
        "id": "EBAvzTNOubDN",
        "outputId": "bbd59e66-0534-4d7a-91cb-7a355f2f6871"
      },
      "execution_count": 16,
      "outputs": [
        {
          "output_type": "stream",
          "name": "stdout",
          "text": [
            "Hello from Parent1\n",
            "Hello from Parent2\n",
            "Hello from Child\n"
          ]
        }
      ]
    },
    {
      "cell_type": "markdown",
      "source": [
        "**Multilevel-Inheritance :**\n",
        "\n",
        "-> A chain of inheritance where a child class becomes the parent of another class."
      ],
      "metadata": {
        "id": "3FdkPd6_ukx3"
      }
    },
    {
      "cell_type": "code",
      "source": [
        "class Grandparent:\n",
        "    def greet(self):\n",
        "        print(\"Hello from Grandparent\")\n",
        "\n",
        "class Parent(Grandparent):\n",
        "    pass\n",
        "\n",
        "class Child(Parent):\n",
        "    pass\n",
        "\n",
        "obj = Child()\n",
        "obj.greet()\n"
      ],
      "metadata": {
        "colab": {
          "base_uri": "https://localhost:8080/"
        },
        "id": "Nwl95Qf9usvI",
        "outputId": "e3187cb9-3d1c-4224-a6bc-de569b6e71e4"
      },
      "execution_count": 17,
      "outputs": [
        {
          "output_type": "stream",
          "name": "stdout",
          "text": [
            "Hello from Grandparent\n"
          ]
        }
      ]
    },
    {
      "cell_type": "markdown",
      "source": [
        "\n",
        "**Heirarchical :**\n",
        "\n",
        "-> Multiple child classes inherit from a single parent class."
      ],
      "metadata": {
        "id": "OvjuKNhbuxtR"
      }
    },
    {
      "cell_type": "code",
      "source": [
        "class Parent:\n",
        "    def greet(self):\n",
        "        print(\"Hello from Parent\")\n",
        "\n",
        "class Child1(Parent):\n",
        "    pass\n",
        "\n",
        "class Child2(Parent):\n",
        "    pass\n",
        "\n",
        "obj1 = Child1()\n",
        "obj1.greet()\n",
        "\n",
        "obj2 = Child2()\n",
        "obj2.greet()\n"
      ],
      "metadata": {
        "id": "LE1d-Fnwu3HR"
      },
      "execution_count": null,
      "outputs": []
    },
    {
      "cell_type": "markdown",
      "source": [
        "**Hybrid-Inheritance :**\n",
        "\n",
        "-> A combination of multiple inheritance types, often involving multiple and hierarchical inheritance.\n",
        "\n",
        "\n",
        "\n"
      ],
      "metadata": {
        "id": "2hM7xmHku9dh"
      }
    },
    {
      "cell_type": "code",
      "source": [
        "class Base:\n",
        "    def greet(self):\n",
        "        print(\"Hello from Base\")\n",
        "\n",
        "class Parent1(Base):\n",
        "    pass\n",
        "\n",
        "class Parent2(Base):\n",
        "    pass\n",
        "\n",
        "class Child(Parent1, Parent2):\n",
        "    pass\n",
        "\n",
        "obj = Child()\n",
        "obj.greet()\n"
      ],
      "metadata": {
        "colab": {
          "base_uri": "https://localhost:8080/"
        },
        "id": "TAqjs47KvMot",
        "outputId": "ba135f08-8aa5-4b83-ace8-7fedc00b37e1"
      },
      "execution_count": 18,
      "outputs": [
        {
          "output_type": "stream",
          "name": "stdout",
          "text": [
            "Hello from Base\n"
          ]
        }
      ]
    },
    {
      "cell_type": "markdown",
      "source": [
        "# Q-7) What is the Method Resolution Order (MRO) in Python? How can you retrieve it programmatically?\n",
        "\n",
        "Ans)  Method Resolution Order (MRO) is the order in which Python looks\n",
        "     for a method when you call it on an object, especially in cases where multiple classes are involved (multiple inheritance).\n",
        "\n",
        "-> When you create a class that inherits from multiple parent classes, it might not always be clear which parent class should be used to find a method.\n",
        "\n",
        "-> The MRO helps Python figure this out by defining the search order for methods.\n",
        "\n",
        "-> Class Hierarchy: When a method is called, Python first checks the current class.\n",
        "\n",
        "-> If the method is not found in the current class, Python looks at the parent classes in a specific order.\n",
        "\n",
        "-> The MRO ensures that each class is searched only once and avoids confusion in method resolution.\n",
        "\n",
        "-> we can retrieve the MRO of a class using the mro() method or the __mro__ attribute. Both methods return a list of classes in the MRO, starting with the class itself.\n"
      ],
      "metadata": {
        "id": "ArS8N_TFwOkM"
      }
    },
    {
      "cell_type": "code",
      "source": [
        "class A:\n",
        "    def method(self):\n",
        "        print(\"Method from A\")\n",
        "\n",
        "class B(A):\n",
        "    def method(self):\n",
        "        print(\"Method from B\")\n",
        "\n",
        "class C(A):\n",
        "    def method(self):\n",
        "        print(\"Method from C\")\n",
        "\n",
        "class D(B, C):\n",
        "    pass\n",
        "\n",
        "\n",
        "print(D.mro())\n",
        "print(D.__mro__)\n"
      ],
      "metadata": {
        "colab": {
          "base_uri": "https://localhost:8080/"
        },
        "id": "mKwlKmc-wY4O",
        "outputId": "8221979e-88f1-418b-f79c-1a185986ee8a"
      },
      "execution_count": 19,
      "outputs": [
        {
          "output_type": "stream",
          "name": "stdout",
          "text": [
            "[<class '__main__.D'>, <class '__main__.B'>, <class '__main__.C'>, <class '__main__.A'>, <class 'object'>]\n",
            "(<class '__main__.D'>, <class '__main__.B'>, <class '__main__.C'>, <class '__main__.A'>, <class 'object'>)\n"
          ]
        }
      ]
    },
    {
      "cell_type": "markdown",
      "source": [
        "# Q-8) Create an abstract base class `Shape` with an abstract method `area()`. Then create two subclasses `Circle` and `Rectangle` that implement the `area()` method.\n",
        "\n",
        "Ans)"
      ],
      "metadata": {
        "id": "s-xJwtORyQ7V"
      }
    },
    {
      "cell_type": "code",
      "source": [
        "from abc import ABC, abstractmethod\n",
        "import math\n",
        "\n",
        "# Abstract Base Class\n",
        "class Shape(ABC):\n",
        "    @abstractmethod\n",
        "    def area(self):\n",
        "        pass\n",
        "\n",
        "# Subclass Circle\n",
        "class Circle(Shape):\n",
        "    def __init__(self, radius):\n",
        "        self.radius = radius\n",
        "\n",
        "    def area(self):\n",
        "        return math.pi * (self.radius ** 2)\n",
        "\n",
        "# Subclass Rectangle\n",
        "class Rectangle(Shape):\n",
        "    def __init__(self, length, width):\n",
        "        self.length = length\n",
        "        self.width = width\n",
        "\n",
        "    def area(self):\n",
        "        return self.length * self.width\n",
        "\n",
        "\n",
        "circle = Circle(5)\n",
        "print(f\"Circle area: {circle.area()}\")\n",
        "\n",
        "rectangle = Rectangle(4, 6)\n",
        "print(f\"Rectangle area: {rectangle.area()}\")\n"
      ],
      "metadata": {
        "colab": {
          "base_uri": "https://localhost:8080/"
        },
        "id": "XttoVukHyd4G",
        "outputId": "aa549f0d-14dc-4539-db26-ffde691890fc"
      },
      "execution_count": 20,
      "outputs": [
        {
          "output_type": "stream",
          "name": "stdout",
          "text": [
            "Circle area: 78.53981633974483\n",
            "Rectangle area: 24\n"
          ]
        }
      ]
    },
    {
      "cell_type": "markdown",
      "source": [
        "# Q-9)  Demonstrate polymorphism by creating a function that can work with different shape objects to calculate and print their areas.\n",
        "\n",
        "Ans)"
      ],
      "metadata": {
        "id": "TtG3NFW9yun4"
      }
    },
    {
      "cell_type": "code",
      "source": [
        "from abc import ABC, abstractmethod\n",
        "import math\n",
        "\n",
        "# Abstract Base Class\n",
        "class Shape(ABC):\n",
        "    @abstractmethod\n",
        "    def area(self):\n",
        "        pass\n",
        "\n",
        "\n",
        "class Circle(Shape):\n",
        "    def __init__(self, radius):\n",
        "        self.radius = radius\n",
        "\n",
        "    def area(self):\n",
        "        return math.pi * (self.radius ** 2)\n",
        "\n",
        "class Rectangle(Shape):\n",
        "    def __init__(self, length, width):\n",
        "        self.length = length\n",
        "        self.width = width\n",
        "\n",
        "    def area(self):\n",
        "        return self.length * self.width\n",
        "\n",
        "# Function demonstrating Polymorphism\n",
        "def print_area(shape: Shape):\n",
        "    print(f\"Area: {shape.area()}\")\n",
        "\n",
        "\n",
        "circle = Circle(5)\n",
        "rectangle = Rectangle(4, 6)\n",
        "\n",
        "\n",
        "print_area(circle)\n",
        "print_area(rectangle)\n"
      ],
      "metadata": {
        "colab": {
          "base_uri": "https://localhost:8080/"
        },
        "id": "1mHnwfuYzlbi",
        "outputId": "3641c206-7468-4d66-b119-e26fdde68c8d"
      },
      "execution_count": 22,
      "outputs": [
        {
          "output_type": "stream",
          "name": "stdout",
          "text": [
            "Area: 78.53981633974483\n",
            "Area: 24\n"
          ]
        }
      ]
    },
    {
      "cell_type": "markdown",
      "source": [
        "# Q-10)  Implement encapsulation in a `BankAccount` class with private attributes for `balance` and `account_number`. Include methods for deposit, withdrawal, and balance inquiry.\n",
        "\n",
        "Ans)"
      ],
      "metadata": {
        "id": "dv6E3Fo72Kkb"
      }
    },
    {
      "cell_type": "code",
      "source": [
        "class BankAccount:\n",
        "    def __init__(self, account_number, initial_balance=0):\n",
        "        self.__account_number = account_number\n",
        "        self.__balance = initial_balance\n",
        "\n",
        "    # Method to deposit money\n",
        "    def deposit(self, amount):\n",
        "        if amount > 0:\n",
        "            self.__balance += amount\n",
        "            print(f\"Deposited: {amount}. New balance: {self.__balance}\")\n",
        "        else:\n",
        "            print(\"Deposit amount must be positive.\")\n",
        "\n",
        "    # Method to withdraw money\n",
        "    def withdraw(self, amount):\n",
        "        if amount > 0 and amount <= self.__balance:\n",
        "            self.__balance -= amount\n",
        "            print(f\"Withdrew: {amount}. New balance: {self.__balance}\")\n",
        "        else:\n",
        "            print(\"Invalid withdrawal amount or insufficient funds.\")\n",
        "\n",
        "\n",
        "    def get_balance(self):\n",
        "        return self.__balance\n",
        "\n",
        "    def get_account_number(self):\n",
        "        return self.__account_number\n",
        "\n",
        "\n",
        "\n",
        "account = BankAccount(123456789, 1000)\n",
        "\n",
        "account.deposit(500)\n",
        "account.withdraw(200)\n",
        "\n",
        "# Accessing private attributes via public method\n",
        "print(f\"Balance: {account.get_balance()}\")  # Get current balance\n",
        "print(f\"Account Number: {account.get_account_number()}\")\n"
      ],
      "metadata": {
        "colab": {
          "base_uri": "https://localhost:8080/"
        },
        "id": "r_IZ6xK129Ra",
        "outputId": "a3bab929-e19f-4ea0-f0e3-b1cd2849cbab"
      },
      "execution_count": 23,
      "outputs": [
        {
          "output_type": "stream",
          "name": "stdout",
          "text": [
            "Deposited: 500. New balance: 1500\n",
            "Withdrew: 200. New balance: 1300\n",
            "Balance: 1300\n",
            "Account Number: 123456789\n"
          ]
        }
      ]
    },
    {
      "cell_type": "markdown",
      "source": [
        "# Q-11) Write a class that overrides the `__str__` and `__add__` magic methods. What will these methods allow you to do?\n",
        "\n",
        "Ans)"
      ],
      "metadata": {
        "id": "S4v3GZTLMo-b"
      }
    },
    {
      "cell_type": "code",
      "source": [
        "class MyNumber:\n",
        "    def __init__(self, value):\n",
        "        self.value = value\n",
        "\n",
        "\n",
        "    def __str__(self):\n",
        "        return f\"MyNumber({self.value})\"\n",
        "\n",
        "    def __add__(self, other):\n",
        "        if isinstance(other, MyNumber):\n",
        "            return MyNumber(self.value + other.value)\n",
        "        return NotImplemented\n",
        "\n",
        "num1 = MyNumber(10)\n",
        "num2 = MyNumber(20)\n",
        "\n",
        "print(num1)\n",
        "\n",
        "num3 = num1 + num2\n",
        "print(num3)\n"
      ],
      "metadata": {
        "colab": {
          "base_uri": "https://localhost:8080/"
        },
        "id": "8Mq_seMUMuVj",
        "outputId": "3ae5051d-cf62-474d-c134-78440e6d559b"
      },
      "execution_count": 2,
      "outputs": [
        {
          "output_type": "stream",
          "name": "stdout",
          "text": [
            "MyNumber(10)\n",
            "MyNumber(30)\n"
          ]
        }
      ]
    },
    {
      "cell_type": "markdown",
      "source": [
        "# Q-12)  Create a decorator that measures and prints the execution time of a function.\n",
        "\n",
        "Ans)"
      ],
      "metadata": {
        "id": "3PXo0a8kNjVy"
      }
    },
    {
      "cell_type": "code",
      "source": [
        "import time\n",
        "\n",
        "# Define the decorator\n",
        "def measure_time(func):\n",
        "    def wrapper(*args, **kwargs):\n",
        "        start_time = time.time()\n",
        "        result = func(*args, **kwargs)  # Call the original function\n",
        "        end_time = time.time()\n",
        "        execution_time = end_time - start_time\n",
        "        print(f\"Execution time of {func.__name__}: {execution_time:.4f} seconds\")\n",
        "        return result  # Return the result of the function\n",
        "    return wrapper\n",
        "\n",
        "\n",
        "@measure_time\n",
        "def slow_function():\n",
        "    time.sleep(2)\n",
        "\n",
        "@measure_time\n",
        "def fast_function():\n",
        "    time.sleep(0.5)\n",
        "\n",
        "slow_function()\n",
        "fast_function()\n",
        "\n"
      ],
      "metadata": {
        "colab": {
          "base_uri": "https://localhost:8080/"
        },
        "id": "3AI1a6_YNslj",
        "outputId": "41181b42-54c3-48d7-a2c1-08c98ba1fee8"
      },
      "execution_count": 3,
      "outputs": [
        {
          "output_type": "stream",
          "name": "stdout",
          "text": [
            "Execution time of slow_function: 2.0031 seconds\n",
            "Execution time of fast_function: 0.5006 seconds\n"
          ]
        }
      ]
    },
    {
      "cell_type": "markdown",
      "source": [
        "# Q-13) 13. Explain the concept of the Diamond Problem in multiple inheritance. How does Python resolve it?\n",
        "\n",
        "Ans)\n",
        "\n",
        "-> The Diamond Problem occurs in object-oriented programming when a\n",
        "   class inherits from two or more classes that have a common ancestor.\n",
        "\n",
        "-> In Python, this problem typically arises in multiple inheritance.\n",
        "\n",
        "        A\n",
        "       / \\\n",
        "      B   C\n",
        "       \\ /\n",
        "        D\n",
        "\n",
        "-> Class A is the base class.\n",
        "\n",
        "-> Classes B and C inherit from A.\n",
        "\n",
        "-> Class D inherits from both B and C."
      ],
      "metadata": {
        "id": "c-EeWjJROQSD"
      }
    },
    {
      "cell_type": "code",
      "source": [
        "class A:\n",
        "    def method(self):\n",
        "        print(\"Method in class A\")\n",
        "\n",
        "class B(A):\n",
        "    def method(self):\n",
        "        print(\"Method in class B\")\n",
        "\n",
        "class C(A):\n",
        "    def method(self):\n",
        "        print(\"Method in class C\")\n",
        "\n",
        "class D(B, C):\n",
        "    pass\n",
        "\n",
        "# Creating an object of class D\n",
        "obj = D()\n",
        "obj.method()\n"
      ],
      "metadata": {
        "colab": {
          "base_uri": "https://localhost:8080/"
        },
        "id": "R1X6DAH7Pl_c",
        "outputId": "494196e8-ab54-4265-b320-613b56a2e766"
      },
      "execution_count": 4,
      "outputs": [
        {
          "output_type": "stream",
          "name": "stdout",
          "text": [
            "Method in class B\n"
          ]
        }
      ]
    },
    {
      "cell_type": "markdown",
      "source": [
        "-> In this example, class D inherits from both class B and class C,\n",
        "  which in turn inherit from class A.\n"
      ],
      "metadata": {
        "id": "7J7alJPtPr_s"
      }
    },
    {
      "cell_type": "markdown",
      "source": [
        "# Q-14) Write a class method that keeps track of the number of instances created from a class.\n",
        "\n",
        "Ans)"
      ],
      "metadata": {
        "id": "ATbamXPIP8GW"
      }
    },
    {
      "cell_type": "code",
      "source": [
        "class MyClass:\n",
        "    instance_count = 0\n",
        "\n",
        "    def __init__(self):\n",
        "\n",
        "        MyClass.instance_count += 1\n",
        "\n",
        "    @classmethod\n",
        "    def get_instance_count(cls):\n",
        "        return cls.instance_count\n",
        "\n",
        "obj1 = MyClass()\n",
        "obj2 = MyClass()\n",
        "obj3 = MyClass()\n",
        "\n",
        "\n",
        "print(f\"Number of instances created: {MyClass.get_instance_count()}\")\n"
      ],
      "metadata": {
        "colab": {
          "base_uri": "https://localhost:8080/"
        },
        "id": "PzBaFhtmQHdY",
        "outputId": "5645dcc5-ad2b-48c4-c231-24b8aabe5170"
      },
      "execution_count": 5,
      "outputs": [
        {
          "output_type": "stream",
          "name": "stdout",
          "text": [
            "Number of instances created: 3\n"
          ]
        }
      ]
    },
    {
      "cell_type": "markdown",
      "source": [
        "# Q-15) Implement a static method in a class that checks if a given year is a leap year.\n",
        "\n",
        "Ans)"
      ],
      "metadata": {
        "id": "1cTG_3o4QV6Z"
      }
    },
    {
      "cell_type": "code",
      "source": [
        "class Year:\n",
        "\n",
        "    @staticmethod\n",
        "    def is_leap_year(year):\n",
        "        if (year % 4 == 0 and year % 100 != 0) or (year % 400 == 0):\n",
        "            return True\n",
        "        else:\n",
        "            return False\n",
        "\n",
        "year = 2024\n",
        "print(f\"{year} is a leap year: {Year.is_leap_year(year)}\")\n",
        "\n",
        "year = 2023\n",
        "print(f\"{year} is a leap year: {Year.is_leap_year(year)}\")\n"
      ],
      "metadata": {
        "colab": {
          "base_uri": "https://localhost:8080/"
        },
        "id": "hmKOTlrHQnFj",
        "outputId": "2d068f05-39b0-4aaa-c3cc-30e3daba39b4"
      },
      "execution_count": 7,
      "outputs": [
        {
          "output_type": "stream",
          "name": "stdout",
          "text": [
            "2024 is a leap year: True\n",
            "2023 is a leap year: False\n"
          ]
        }
      ]
    }
  ]
}