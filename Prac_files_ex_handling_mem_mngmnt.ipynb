{
  "nbformat": 4,
  "nbformat_minor": 0,
  "metadata": {
    "colab": {
      "provenance": []
    },
    "kernelspec": {
      "name": "python3",
      "display_name": "Python 3"
    },
    "language_info": {
      "name": "python"
    }
  },
  "cells": [
    {
      "cell_type": "markdown",
      "source": [
        "# Q-1) How can you open a file for writing in Python and write a string to it?\n",
        "\n",
        "Ans)"
      ],
      "metadata": {
        "id": "OSH2ZP2hdtJg"
      }
    },
    {
      "cell_type": "code",
      "source": [
        "# Using 'with' statement to open a file\n",
        "with open(\"example.txt\", \"w\") as file:\n",
        "    file.write(\"Hello, this is a test string! \\n\")\n",
        "    file.write(\"My Name is Alok Yadav \\n\")\n",
        "    file.write(\"I`m enrolled into PW-course \\n\")\n"
      ],
      "metadata": {
        "id": "Mit-QfnZdxQG"
      },
      "execution_count": 8,
      "outputs": []
    },
    {
      "cell_type": "markdown",
      "source": [
        "# Q-2) Write a Python program to read the contents of a file and print each line?\n",
        "\n",
        "Ans)"
      ],
      "metadata": {
        "id": "Dw5nNNtbd4-I"
      }
    },
    {
      "cell_type": "code",
      "source": [
        "with open(\"example.txt\", \"r\") as file:\n",
        "    for line in file:\n",
        "        print(line)\n"
      ],
      "metadata": {
        "colab": {
          "base_uri": "https://localhost:8080/"
        },
        "id": "xhTBWPejeFtR",
        "outputId": "3e145b6b-4ece-4615-ab5a-b878a46fbb49"
      },
      "execution_count": 9,
      "outputs": [
        {
          "output_type": "stream",
          "name": "stdout",
          "text": [
            "Hello, this is a test string! \n",
            "\n",
            "My Name is Alok Yadav \n",
            "\n",
            "I`m enrolled into PW-course \n",
            "\n"
          ]
        }
      ]
    },
    {
      "cell_type": "markdown",
      "source": [
        "# Q-3) How would you handle a case where the file doesn't exist while trying to open it for reading?\n",
        "\n",
        "Ans)"
      ],
      "metadata": {
        "id": "V6ugCYuWetJ-"
      }
    },
    {
      "cell_type": "code",
      "source": [
        "try:\n",
        "    with open(\"file.txt\", \"r\") as file:\n",
        "        for line in file:\n",
        "            print(line)\n",
        "except FileNotFoundError:\n",
        "    print(\"Error: The file does not exist. Please check the file name or path.\")\n"
      ],
      "metadata": {
        "colab": {
          "base_uri": "https://localhost:8080/"
        },
        "id": "ROpduCX8fBVg",
        "outputId": "2b9c48f7-185c-4564-c1f3-ea435fa558a5"
      },
      "execution_count": 12,
      "outputs": [
        {
          "output_type": "stream",
          "name": "stdout",
          "text": [
            "Error: The file does not exist. Please check the file name or path.\n"
          ]
        }
      ]
    },
    {
      "cell_type": "markdown",
      "source": [
        "# Q-4) Write a Python script that reads from one file and writes its content to another file?\n",
        "\n",
        "Ans)"
      ],
      "metadata": {
        "id": "wbv_yz0DfOJJ"
      }
    },
    {
      "cell_type": "code",
      "source": [
        "# Specifying the source file and destination file\n",
        "source_file = \"source.txt\"\n",
        "destination_file = \"destination.txt\"\n",
        "\n",
        "try:\n",
        "    with open(source_file, \"r\") as src:\n",
        "        content = src.read()\n",
        "\n",
        "    # Opening the destination file for writing\n",
        "    with open(destination_file, \"w\") as dest:\n",
        "        dest.write(content)\n",
        "\n",
        "    print(f\"Content successfully copied from {source_file} to {destination_file}.\")\n",
        "except FileNotFoundError:\n",
        "    print(f\"Error: The file '{source_file}' does not exist.\")\n",
        "except Exception as e:\n",
        "    print(f\"An unexpected error occurred: {e}\")\n"
      ],
      "metadata": {
        "colab": {
          "base_uri": "https://localhost:8080/"
        },
        "id": "RdpMs8zrfbxj",
        "outputId": "1127a188-550b-4c3d-acb7-5a2ad8592203"
      },
      "execution_count": 13,
      "outputs": [
        {
          "output_type": "stream",
          "name": "stdout",
          "text": [
            "Error: The file 'source.txt' does not exist.\n"
          ]
        }
      ]
    },
    {
      "cell_type": "markdown",
      "source": [
        "# Q-5) How would you catch and handle division by zero error in Python?\n",
        "\n",
        "Ans)"
      ],
      "metadata": {
        "id": "FnyU1Sgaf3cH"
      }
    },
    {
      "cell_type": "code",
      "source": [
        "try:\n",
        "    numerator = 10\n",
        "    denominator = 0\n",
        "    result = numerator / denominator\n",
        "    print(f\"The result is {result}\")\n",
        "except ZeroDivisionError:\n",
        "    print(\"Error: Division by zero is not allowed.\")\n"
      ],
      "metadata": {
        "colab": {
          "base_uri": "https://localhost:8080/"
        },
        "id": "jaDkz0Fqf-On",
        "outputId": "63c8bdea-e005-423a-9309-fdd09e45de6b"
      },
      "execution_count": 16,
      "outputs": [
        {
          "output_type": "stream",
          "name": "stdout",
          "text": [
            "Error: Division by zero is not allowed.\n"
          ]
        }
      ]
    },
    {
      "cell_type": "markdown",
      "source": [
        "# Q-6) Write a Python program that logs an error message to a log file when a division by zero exception occurs?\n",
        "\n",
        "Ans)"
      ],
      "metadata": {
        "id": "i6Z214pOgJoJ"
      }
    },
    {
      "cell_type": "code",
      "source": [
        "import logging\n",
        "\n",
        "logging.basicConfig(\n",
        "    filename=\"error_log.txt\",\n",
        "    level=logging.ERROR,\n",
        "    format=\"%(asctime)s - %(levelname)s - %(message)s\"\n",
        ")\n",
        "\n",
        "def divide_numbers(numerator, denominator):\n",
        "    try:\n",
        "        result = numerator / denominator\n",
        "        print(f\"The result is {result}\")\n",
        "    except ZeroDivisionError:\n",
        "        logging.error(\"Division by zero error occurred. Numerator: %d, Denominator: %d\", numerator, denominator)\n",
        "        print(\"Error: Division by zero is not allowed.\")\n",
        "\n",
        "divide_numbers(10,0)\n"
      ],
      "metadata": {
        "colab": {
          "base_uri": "https://localhost:8080/"
        },
        "id": "N3qcdpcvgOLi",
        "outputId": "3aa01bf6-71dc-49a8-c741-eaf5854e58a4"
      },
      "execution_count": 20,
      "outputs": [
        {
          "output_type": "stream",
          "name": "stderr",
          "text": [
            "ERROR:root:Division by zero error occurred. Numerator: 10, Denominator: 0\n"
          ]
        },
        {
          "output_type": "stream",
          "name": "stdout",
          "text": [
            "Error: Division by zero is not allowed.\n"
          ]
        }
      ]
    },
    {
      "cell_type": "markdown",
      "source": [
        "# Q-7) How do you log information at different levels (INFO, ERROR, WARNING) in Python using the logging module?\n",
        "\n",
        "Ans)"
      ],
      "metadata": {
        "id": "aHvF4mAIgzp_"
      }
    },
    {
      "cell_type": "code",
      "source": [
        "import logging\n",
        "\n",
        "logging.basicConfig(\n",
        "    filename=\"app_log.txt\",\n",
        "    level=logging.INFO,\n",
        "    format=\"%(asctime)s - %(levelname)s - %(message)s\"\n",
        ")\n",
        "\n",
        "logging.info(\"This is an info message.\")\n",
        "logging.warning(\"This is a warning message.\")\n",
        "logging.error(\"This is an error message.\")\n",
        "logging.critical(\"This is a critical message.\")\n"
      ],
      "metadata": {
        "colab": {
          "base_uri": "https://localhost:8080/"
        },
        "id": "rnvq7f46g7MY",
        "outputId": "74ce60ff-1fab-43ff-a262-caa022e621aa"
      },
      "execution_count": 21,
      "outputs": [
        {
          "output_type": "stream",
          "name": "stderr",
          "text": [
            "WARNING:root:This is a warning message.\n",
            "ERROR:root:This is an error message.\n",
            "CRITICAL:root:This is a critical message.\n"
          ]
        }
      ]
    },
    {
      "cell_type": "markdown",
      "source": [
        "# Q-8) Write a program to handle a file opening error using exception handling?\n",
        "\n",
        "Ans)"
      ],
      "metadata": {
        "id": "og6TImIyhU27"
      }
    },
    {
      "cell_type": "code",
      "source": [
        "def read_file(file_name):\n",
        "    try:\n",
        "        with open(file_name, \"r\") as file:\n",
        "            content = file.read()\n",
        "            print(\"File content:\")\n",
        "            print(content)\n",
        "\n",
        "    except FileNotFoundError:\n",
        "        print(f\"Error: The file '{file_name}' does not exist. Please check the file name or path.\")\n",
        "    except PermissionError:\n",
        "        print(f\"Error: You do not have permission to access the file '{file_name}'.\")\n",
        "    except Exception as e:\n",
        "        print(f\"An unexpected error occurred: {e}\")\n",
        "\n",
        "file_name = \"nonexistent_file.txt\"\n",
        "read_file(file_name)\n"
      ],
      "metadata": {
        "colab": {
          "base_uri": "https://localhost:8080/"
        },
        "id": "p7uqMddDhchU",
        "outputId": "448eb967-d7ed-464b-897f-a59a005e81aa"
      },
      "execution_count": 25,
      "outputs": [
        {
          "output_type": "stream",
          "name": "stdout",
          "text": [
            "Error: The file 'nonexistent_file.txt' does not exist. Please check the file name or path.\n"
          ]
        }
      ]
    },
    {
      "cell_type": "markdown",
      "source": [
        "# Q-9)How can you read a file line by line and store its content in a list in Python?\n",
        "\n",
        "Ans)"
      ],
      "metadata": {
        "id": "kOn-R2_ehp4l"
      }
    },
    {
      "cell_type": "code",
      "source": [
        "with open(\"example.txt\", \"r\") as file:\n",
        "    lines = [line for line in file]\n",
        "\n",
        "print(lines)\n"
      ],
      "metadata": {
        "colab": {
          "base_uri": "https://localhost:8080/"
        },
        "id": "3Oxf2tHSh_GX",
        "outputId": "bee0d06f-158b-47b5-abe9-d29e9e56db45"
      },
      "execution_count": 24,
      "outputs": [
        {
          "output_type": "stream",
          "name": "stdout",
          "text": [
            "['Hello, this is a test string! \\n', 'My Name is Alok Yadav \\n', 'I`m enrolled into PW-course \\n']\n"
          ]
        }
      ]
    },
    {
      "cell_type": "markdown",
      "source": [
        "\n",
        "# Q-10) How can you append data to an existing file in Python?\n",
        "\n",
        "Ans)"
      ],
      "metadata": {
        "id": "m7KXeroYiYX8"
      }
    },
    {
      "cell_type": "code",
      "source": [
        "# Opening the file in append mode\n",
        "with open(\"example.txt\", \"a\") as file:\n",
        "    file.write(\"\\nThis is a new line added to the file.\")\n",
        "\n",
        "print(\"Data has been appended to the file.\")\n"
      ],
      "metadata": {
        "colab": {
          "base_uri": "https://localhost:8080/"
        },
        "id": "_kxhqGaBigZd",
        "outputId": "aceab65f-b7f0-4965-9668-c3fc6290a183"
      },
      "execution_count": 26,
      "outputs": [
        {
          "output_type": "stream",
          "name": "stdout",
          "text": [
            "Data has been appended to the file.\n"
          ]
        }
      ]
    },
    {
      "cell_type": "markdown",
      "source": [
        "# Q-11) Write a Python program that uses a try-except block to handle an error when attempting to access a dictionary key that doesn't exist?\n",
        "\n",
        "Ans)\n"
      ],
      "metadata": {
        "id": "Q7BF8f9WjHwK"
      }
    },
    {
      "cell_type": "code",
      "source": [
        "my_dict = {\n",
        "    \"name\": \"John\",\n",
        "    \"age\": 30,\n",
        "    \"city\": \"New York\"\n",
        "}\n",
        "\n",
        "key_to_access = \"address\"\n",
        "\n",
        "try:\n",
        "    value = my_dict[key_to_access]\n",
        "    print(f\"The value for '{key_to_access}' is {value}\")\n",
        "except KeyError:\n",
        "    print(f\"Error: The key '{key_to_access}' does not exist in the dictionary.\")\n"
      ],
      "metadata": {
        "colab": {
          "base_uri": "https://localhost:8080/"
        },
        "id": "V8K3jAT_jQX6",
        "outputId": "ba98bed1-18d5-4018-e0de-5a5ddf8dc95b"
      },
      "execution_count": 27,
      "outputs": [
        {
          "output_type": "stream",
          "name": "stdout",
          "text": [
            "Error: The key 'address' does not exist in the dictionary.\n"
          ]
        }
      ]
    },
    {
      "cell_type": "markdown",
      "source": [
        "# Q-12) Write a program that demonstrates using multiple except blocks to handle different types of exceptions.\n",
        "\n",
        "Ans)\n"
      ],
      "metadata": {
        "id": "65pVz6vxjiFk"
      }
    },
    {
      "cell_type": "code",
      "source": [
        "def perform_operations():\n",
        "    try:\n",
        "        num1 = int(input(\"Enter the first number: \"))\n",
        "        num2 = int(input(\"Enter the second number: \"))\n",
        "\n",
        "        result = num1 / num2\n",
        "        print(f\"The result of division is: {result}\")\n",
        "\n",
        "    except ZeroDivisionError:\n",
        "        print(\"Error: You can't divide by zero. Please provide a non-zero denominator.\")\n",
        "\n",
        "    except ValueError:\n",
        "        print(\"Error: Invalid input. Please enter valid integers.\")\n",
        "\n",
        "    except Exception as e:\n",
        "        print(f\"An unexpected error occurred: {e}\")\n",
        "\n",
        "perform_operations()\n"
      ],
      "metadata": {
        "colab": {
          "base_uri": "https://localhost:8080/"
        },
        "id": "K1VKrCJ-jnYe",
        "outputId": "b80e6e0f-3e11-4d15-f3d1-41824ddfba84"
      },
      "execution_count": 29,
      "outputs": [
        {
          "output_type": "stream",
          "name": "stdout",
          "text": [
            "Enter the first number: Alok\n",
            "Error: Invalid input. Please enter valid integers.\n"
          ]
        }
      ]
    },
    {
      "cell_type": "markdown",
      "source": [
        "# Q-13)  How would you check if a file exists before attempting to read it in Python?\n",
        "\n",
        "Ans)"
      ],
      "metadata": {
        "id": "tdU4sofQkiB9"
      }
    },
    {
      "cell_type": "code",
      "source": [
        "import os\n",
        "\n",
        "file_name = \"example.txt\"\n",
        "\n",
        "if os.path.exists(file_name):\n",
        "    with open(file_name, \"r\") as file:\n",
        "        content = file.read()\n",
        "        print(content)\n",
        "else:\n",
        "    print(f\"The file '{file_name}' does not exist.\")\n"
      ],
      "metadata": {
        "colab": {
          "base_uri": "https://localhost:8080/"
        },
        "id": "ZBnqvhEWk1pX",
        "outputId": "9ee8bb21-8d45-4290-bd64-f99f330ba7db"
      },
      "execution_count": 30,
      "outputs": [
        {
          "output_type": "stream",
          "name": "stdout",
          "text": [
            "Hello, this is a test string! \n",
            "My Name is Alok Yadav \n",
            "I`m enrolled into PW-course \n",
            "\n",
            "This is a new line added to the file.\n"
          ]
        }
      ]
    },
    {
      "cell_type": "markdown",
      "source": [
        "# Q-14) Write a program that uses the logging module to log both informational and error messages?\n",
        "\n",
        "Ans)"
      ],
      "metadata": {
        "id": "K2mHy2nLlBG4"
      }
    },
    {
      "cell_type": "code",
      "source": [
        "import logging\n",
        "\n",
        "logging.basicConfig(\n",
        "    filename='app.log',\n",
        "    level=logging.DEBUG,\n",
        "    format='%(asctime)s - %(levelname)s - %(message)s'\n",
        ")\n",
        "\n",
        "logging.info(\"This is an informational message.\")\n",
        "\n",
        "try:\n",
        "    x = 1 / 0\n",
        "except ZeroDivisionError as e:\n",
        "    logging.error(f\"An error occurred: {e}\")"
      ],
      "metadata": {
        "colab": {
          "base_uri": "https://localhost:8080/"
        },
        "id": "CBH9fT69lOkS",
        "outputId": "0bb817c9-f4f4-46e0-e64f-d9cdb34b2a1f"
      },
      "execution_count": 32,
      "outputs": [
        {
          "output_type": "stream",
          "name": "stderr",
          "text": [
            "ERROR:root:An error occurred: division by zero\n"
          ]
        }
      ]
    },
    {
      "cell_type": "markdown",
      "source": [
        "# Q-15)  Write a Python program that prints the content of a file and handles the case when the file is empty?\n",
        "\n",
        "Ans)"
      ],
      "metadata": {
        "id": "H5Ed4DDklc5j"
      }
    },
    {
      "cell_type": "code",
      "source": [
        "def print_file_content(file_name):\n",
        "    try:\n",
        "        with open(file_name, 'r') as file:\n",
        "            content = file.read()\n",
        "            if content:\n",
        "                print(content)\n",
        "            else:\n",
        "                print(f\"The file '{file_name}' is empty.\")\n",
        "    except FileNotFoundError:\n",
        "        print(f\"Error: The file '{file_name}' does not exist.\")\n",
        "    except Exception as e:\n",
        "        print(f\"An unexpected error occurred: {e}\")\n",
        "\n",
        "\n",
        "file_name = \"example.txt\"\n",
        "print_file_content(file_name)\n"
      ],
      "metadata": {
        "colab": {
          "base_uri": "https://localhost:8080/"
        },
        "id": "ZdKTxxf7lnO8",
        "outputId": "f78a4c3e-29b0-4dd8-82b1-5fcd4d421b2b"
      },
      "execution_count": 33,
      "outputs": [
        {
          "output_type": "stream",
          "name": "stdout",
          "text": [
            "Hello, this is a test string! \n",
            "My Name is Alok Yadav \n",
            "I`m enrolled into PW-course \n",
            "\n",
            "This is a new line added to the file.\n"
          ]
        }
      ]
    },
    {
      "cell_type": "markdown",
      "source": [
        "# Q-16) Demonstrate how to use memory profiling to check the memory usage of a small program\n",
        "\n",
        "Ans)"
      ],
      "metadata": {
        "id": "zhnOBeUnl1PO"
      }
    },
    {
      "cell_type": "code",
      "source": [
        "import sys\n",
        "\n",
        "def check_memory_usage():\n",
        "    # Example 1: Integer\n",
        "    num = 12345\n",
        "    print(f\"Memory used by integer 'num': {sys.getsizeof(num)} bytes\")\n",
        "\n",
        "    # Example 2: List\n",
        "    my_list = [1, 2, 3, 4, 5]\n",
        "    print(f\"Memory used by list 'my_list': {sys.getsizeof(my_list)} bytes\")\n",
        "\n",
        "check_memory_usage()\n"
      ],
      "metadata": {
        "colab": {
          "base_uri": "https://localhost:8080/"
        },
        "id": "bWW6wYrBl7w_",
        "outputId": "34adbcf7-2527-4107-f0a2-292e867afeaa"
      },
      "execution_count": 34,
      "outputs": [
        {
          "output_type": "stream",
          "name": "stdout",
          "text": [
            "Memory used by integer 'num': 28 bytes\n",
            "Memory used by list 'my_list': 104 bytes\n"
          ]
        }
      ]
    },
    {
      "cell_type": "markdown",
      "source": [
        "# Q-17)Write a Python program to create and write a list of numbers to a file, one number per line.\n",
        "\n",
        "Ans)"
      ],
      "metadata": {
        "id": "XuG8hgESmS-z"
      }
    },
    {
      "cell_type": "code",
      "source": [
        "def write_numbers_to_file(filename, numbers):\n",
        "    try:\n",
        "        with open(filename, 'w') as file:\n",
        "            for number in numbers:\n",
        "                file.write(f\"{number}\\n\")\n",
        "        print(f\"Numbers have been written to {filename}\")\n",
        "    except Exception as e:\n",
        "        print(f\"An error occurred: {e}\")\n",
        "\n",
        "numbers_list = [1, 2, 3, 4, 5]\n",
        "\n",
        "write_numbers_to_file('numbers.txt', numbers_list)\n"
      ],
      "metadata": {
        "colab": {
          "base_uri": "https://localhost:8080/"
        },
        "id": "ilHF2zcomc5s",
        "outputId": "4a96e531-5f7e-42d2-e172-951bbae84d29"
      },
      "execution_count": 35,
      "outputs": [
        {
          "output_type": "stream",
          "name": "stdout",
          "text": [
            "Numbers have been written to numbers.txt\n"
          ]
        }
      ]
    },
    {
      "cell_type": "markdown",
      "source": [
        "# Q-18) How would you implement a basic logging setup that logs to a file with rotation after 1MB?\n",
        "\n",
        "Ans)"
      ],
      "metadata": {
        "id": "ZFSxSQhAm6Dv"
      }
    },
    {
      "cell_type": "markdown",
      "source": [
        "# Q-19) Write a program that handles both IndexError and KeyError using a try-except block?\n",
        "\n",
        "Ans)"
      ],
      "metadata": {
        "id": "m_9L0pi0nbIz"
      }
    },
    {
      "cell_type": "code",
      "source": [
        "def handle_errors():\n",
        "    my_list = [1, 2, 3]\n",
        "    my_dict = {'a': 1, 'b': 2}\n",
        "\n",
        "    try:\n",
        "        print(my_list[3])\n",
        "        print(my_dict['c'])\n",
        "\n",
        "    except IndexError as ie:\n",
        "        print(f\"IndexError occurred: {ie}\")\n",
        "    except KeyError as ke:\n",
        "        print(f\"KeyError occurred: {ke}\")\n",
        "    else:\n",
        "        print(\"No errors occurred.\")\n",
        "    finally:\n",
        "        print(\"Execution completed.\")\n",
        "\n",
        "handle_errors()\n"
      ],
      "metadata": {
        "colab": {
          "base_uri": "https://localhost:8080/"
        },
        "id": "K72n-F9Unlec",
        "outputId": "2c086b4a-26c9-4ecf-a5d4-49072b87ce60"
      },
      "execution_count": 37,
      "outputs": [
        {
          "output_type": "stream",
          "name": "stdout",
          "text": [
            "IndexError occurred: list index out of range\n",
            "Execution completed.\n"
          ]
        }
      ]
    },
    {
      "cell_type": "markdown",
      "source": [
        "# Q-20) How would you open a file and read its contents using a context manager in Python?\n",
        "\n",
        "Ans)"
      ],
      "metadata": {
        "id": "yIey7GCin1s2"
      }
    },
    {
      "cell_type": "code",
      "source": [
        "def read_file_contents(filename):\n",
        "    with open(filename, 'r') as file:\n",
        "        contents = file.read()\n",
        "        return contents\n",
        "\n",
        "filename = 'example.txt'\n",
        "\n",
        "file_contents = read_file_contents(filename)\n",
        "print(file_contents)\n"
      ],
      "metadata": {
        "colab": {
          "base_uri": "https://localhost:8080/"
        },
        "id": "zdO0P3c1oAfv",
        "outputId": "a1d2ab9a-87d9-4443-a881-803d76a38a7d"
      },
      "execution_count": 38,
      "outputs": [
        {
          "output_type": "stream",
          "name": "stdout",
          "text": [
            "Hello, this is a test string! \n",
            "My Name is Alok Yadav \n",
            "I`m enrolled into PW-course \n",
            "\n",
            "This is a new line added to the file.\n"
          ]
        }
      ]
    },
    {
      "cell_type": "markdown",
      "source": [
        "# Q-21) Write a Python program that reads a file and prints the number of occurrences of a specific word?\n",
        "\n",
        "Ans)"
      ],
      "metadata": {
        "id": "ivZ2El69oI_Q"
      }
    },
    {
      "cell_type": "code",
      "source": [
        "def count_word_occurrences(filename, word):\n",
        "    try:\n",
        "        with open(filename, 'r') as file:\n",
        "            content = file.read()\n",
        "            word_count = content.lower().count(word.lower())\n",
        "        return word_count\n",
        "    except FileNotFoundError:\n",
        "        print(f\"The file {filename} was not found.\")\n",
        "        return 0\n",
        "\n",
        "filename = 'example.txt'\n",
        "word_to_search = 'ALok'\n",
        "\n",
        "count = count_word_occurrences(filename, word_to_search)\n",
        "print(f\"The word '{word_to_search}' occurred {count} times in the file.\")\n"
      ],
      "metadata": {
        "colab": {
          "base_uri": "https://localhost:8080/"
        },
        "id": "AQBIwLBZoN7h",
        "outputId": "ab9e4059-d892-4263-ee00-7066aa06b5a4"
      },
      "execution_count": 41,
      "outputs": [
        {
          "output_type": "stream",
          "name": "stdout",
          "text": [
            "The word 'ALok' occurred 1 times in the file.\n"
          ]
        }
      ]
    },
    {
      "cell_type": "markdown",
      "source": [
        "# Q-22) How can you check if a file is empty before attempting to read its contents?\n",
        "\n",
        "Ans)"
      ],
      "metadata": {
        "id": "fSQYi0RTo0oG"
      }
    },
    {
      "cell_type": "code",
      "source": [
        "import os\n",
        "\n",
        "def read_file_if_not_empty(filename):\n",
        "    if os.path.getsize(filename) == 0:\n",
        "        print(f\"The file {filename} is empty.\")\n",
        "    else:\n",
        "        with open(filename, 'r') as file:\n",
        "            content = file.read()\n",
        "            print(content)\n",
        "\n",
        "filename = 'example.txt'\n",
        "read_file_if_not_empty(filename)\n"
      ],
      "metadata": {
        "colab": {
          "base_uri": "https://localhost:8080/"
        },
        "id": "kJSnnvebpBon",
        "outputId": "ceabc45b-f98a-4cd4-a6c2-e44667a0e1d4"
      },
      "execution_count": 42,
      "outputs": [
        {
          "output_type": "stream",
          "name": "stdout",
          "text": [
            "Hello, this is a test string! \n",
            "My Name is Alok Yadav \n",
            "I`m enrolled into PW-course \n",
            "\n",
            "This is a new line added to the file.\n"
          ]
        }
      ]
    },
    {
      "cell_type": "markdown",
      "source": [
        "# Q-23)  Write a Python program that writes to a log file when an error occurs during file handling.\n",
        "\n",
        "Ans)"
      ],
      "metadata": {
        "id": "wo9KA7pppRxq"
      }
    },
    {
      "cell_type": "code",
      "source": [
        "import logging\n",
        "\n",
        "logging.basicConfig(filename='file_handling.log', level=logging.ERROR,\n",
        "                    format='%(asctime)s - %(levelname)s - %(message)s')\n",
        "\n",
        "def handle_file_operations(filename):\n",
        "    try:\n",
        "        with open(filename, 'r') as file:\n",
        "            content = file.read()\n",
        "            print(content)\n",
        "    except Exception as e:\n",
        "        logging.error(f\"Error occurred while handling the file {filename}: {e}\")\n",
        "\n",
        "filename = 'example.txt'\n",
        "handle_file_operations(filename)\n"
      ],
      "metadata": {
        "colab": {
          "base_uri": "https://localhost:8080/"
        },
        "id": "U3kjmFkDpYcy",
        "outputId": "bebeb8b1-59d1-4e3e-fa53-5f885fe57edb"
      },
      "execution_count": 44,
      "outputs": [
        {
          "output_type": "stream",
          "name": "stdout",
          "text": [
            "Hello, this is a test string! \n",
            "My Name is Alok Yadav \n",
            "I`m enrolled into PW-course \n",
            "\n",
            "This is a new line added to the file.\n"
          ]
        }
      ]
    }
  ]
}